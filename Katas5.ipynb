{
 "cells": [
  {
   "cell_type": "code",
   "execution_count": 4,
   "metadata": {},
   "outputs": [
    {
     "name": "stdout",
     "output_type": "stream",
     "text": [
      "628949330\n",
      "390577533.93\n"
     ]
    }
   ],
   "source": [
    "#Tierra (149.597.870 km) y Júpiter (778.547.200 km).\n",
    "\n",
    "tierra = 149597870\n",
    "jupiter = 778547200\n",
    "\n",
    "resta = jupiter - tierra\n",
    "print (resta)\n",
    "millas = resta*0.621\n",
    "print (millas)"
   ]
  },
  {
   "cell_type": "code",
   "execution_count": null,
   "metadata": {},
   "outputs": [],
   "source": [
    "# Almacenar las entradas del usuario\n",
    "print('Indica la distancia entre el primer planeta y el sol')\n",
    "p1 = input ()\n",
    "\n",
    "print('Indica la distancia entre el segundo planeta y el sol')\n",
    "p2 = input ()"
   ]
  },
  {
   "cell_type": "code",
   "execution_count": 10,
   "metadata": {},
   "outputs": [
    {
     "name": "stdout",
     "output_type": "stream",
     "text": [
      "Indica la distancia entre el primer planeta y el sol\n",
      "Indica la distancia entre el segundo planeta y el sol\n",
      "50300000\n",
      "31236300.0\n"
     ]
    }
   ],
   "source": [
    "# Convierte las cadenas de ambos planetas a números enteros\n",
    "print('Indica la distancia entre el primer planeta y el sol')\n",
    "p1 = int(input ())\n",
    "\n",
    "print('Indica la distancia entre el segundo planeta y el sol')\n",
    "p2 = int(input ())\n",
    "\n",
    "# Realizar el cálculo y determinar el valor absoluto\n",
    "distancia = p1 - p2\n",
    "\n",
    "abs_number = abs(distancia)\n",
    "print (abs_number)\n",
    "# Convertir de KM a Millas\n",
    "\n",
    "millas = abs_number * 0.621\n",
    "print (millas)"
   ]
  },
  {
   "cell_type": "code",
   "execution_count": null,
   "metadata": {},
   "outputs": [],
   "source": []
  }
 ],
 "metadata": {
  "interpreter": {
   "hash": "dda0ab21570dce833aaeb910644a02803c24e5869765398937f61f236ed1a04d"
  },
  "kernelspec": {
   "display_name": "Python 3.10.2 64-bit",
   "language": "python",
   "name": "python3"
  },
  "language_info": {
   "codemirror_mode": {
    "name": "ipython",
    "version": 3
   },
   "file_extension": ".py",
   "mimetype": "text/x-python",
   "name": "python",
   "nbconvert_exporter": "python",
   "pygments_lexer": "ipython3",
   "version": "3.10.2"
  },
  "orig_nbformat": 4
 },
 "nbformat": 4,
 "nbformat_minor": 2
}
