{
 "cells": [
  {
   "cell_type": "markdown",
   "metadata": {},
   "source": [
    "# Ejercicio: Uso de funciones en Python"
   ]
  },
  {
   "cell_type": "markdown",
   "metadata": {},
   "source": [
    "## Ejercicio 1: Trabajar con argumentos en funciones"
   ]
  },
  {
   "cell_type": "code",
   "execution_count": null,
   "metadata": {},
   "outputs": [],
   "source": [
    "# Función para leer 3 tanques de combustible y muestre el promedio\n",
    "\n",
    "\n",
    "def gas(tanque1, tanque2, tanque3):\n",
    "    prom = (tanque1 + tanque2 + tanque3)/3\n",
    "\n",
    "    return f\"\"\" Reporte de combustible:\n",
    "    Tenemos un promedio de: {prom} litros totales de combustible.\n",
    "    El tanque #1 tiene un total de: {tanque1} litros.\n",
    "    El tanque #2 tiene un total de: {tanque2} litros.\n",
    "    El tanque #3 tiene un total de: {tanque3} litros.\n",
    "    \"\"\"\n",
    "\n",
    "# Llamamos a la función que genera el reporte print(funcion(tanque1, tanque2, tanque3)) \n",
    "\n",
    "print(gas(25,5,20))\n"
   ]
  },
  {
   "cell_type": "code",
   "execution_count": 46,
   "metadata": {},
   "outputs": [],
   "source": [
    "#Función promedio\n",
    "\n",
    "def promedio (numeros):\n",
    "    prom = sum(numeros)\n",
    "    total = len(numeros)\n",
    "    return prom / total"
   ]
  },
  {
   "cell_type": "code",
   "execution_count": 66,
   "metadata": {},
   "outputs": [
    {
     "name": "stdout",
     "output_type": "stream",
     "text": [
      " Reporte de combustible:\n",
      "    Tenemos un promedio de: 16.666666666666668 litros totales de combustible.\n",
      "    El tanque #1 tiene un total de: 25 litros.\n",
      "    El tanque #2 tiene un total de: 5 litros.\n",
      "    El tanque #3 tiene un total de: 20 litros.\n",
      "    \n"
     ]
    }
   ],
   "source": [
    "def gas(tanque1, tanque2, tanque3):\n",
    "    return f\"\"\" Reporte de combustible:\n",
    "    Tenemos un promedio de: {promedio([tanque1,tanque2,tanque3])} litros totales de combustible.\n",
    "    El tanque #1 tiene un total de: {tanque1} litros.\n",
    "    El tanque #2 tiene un total de: {tanque2} litros.\n",
    "    El tanque #3 tiene un total de: {tanque3} litros.\n",
    "    \"\"\"\n",
    "\n",
    "print(gas(25,5,20))"
   ]
  },
  {
   "cell_type": "markdown",
   "metadata": {},
   "source": [
    "# Ejercicio 2: Trabajo con argumentos de palabra clave"
   ]
  },
  {
   "cell_type": "markdown",
   "metadata": {},
   "source": [
    "## Ejercicio : Trabajar con argumentos de palabras clave en funciones"
   ]
  },
  {
   "cell_type": "code",
   "execution_count": 75,
   "metadata": {},
   "outputs": [
    {
     "name": "stdout",
     "output_type": "stream",
     "text": [
      " Informe del cohete:\n",
      "    La hora de prelanzamiento es a las: 13 hrs.\n",
      "    El tiempo de vuelo hacia el destino es de: 10 hrs.\n",
      "    El destino es: La luna\n",
      "    Tenemos un tanque externo de: 200000 litros.\n",
      "    Tenemos un tanque externo de: 100000 litros.\n",
      "    \n"
     ]
    }
   ],
   "source": [
    "#En este ejercicio, construirás un informe de cohete que requiere varias piezas de información, como el tiempo hasta el destino, el combustible a la izquierda y el nombre del \n",
    "# destino. Comienza por crear una función que creará un informe preciso de la misión:\n",
    "# Función con un informe preciso de la misión. Considera hora de prelanzamiento, tiempo de vuelo, destino, tanque externo y tanque interno\n",
    "\n",
    "def informe (hora, tiempo, destino, tanque_e, tanque_i):\n",
    "    return f\"\"\" Informe del cohete:\n",
    "    La hora de prelanzamiento es a las: {hora} hrs.\n",
    "    El tiempo de vuelo hacia el destino es de: {tiempo} hrs.\n",
    "    El destino es: {destino}\n",
    "    Tenemos un tanque externo de: {tanque_e} litros.\n",
    "    Tenemos un tanque externo de: {tanque_i} litros.\n",
    "    \"\"\"\n",
    "\n",
    "\n",
    "print(informe(13,10,'La luna',200000,100000))  \n",
    "\n"
   ]
  },
  {
   "cell_type": "code",
   "execution_count": 86,
   "metadata": {},
   "outputs": [
    {
     "name": "stdout",
     "output_type": "stream",
     "text": [
      " Informe del cohete:\n",
      "    El destino es: la luna\n",
      "    el tiempo total es de: 15\n",
      "    Tenemos un total de: 30000 litros en los tanques.\n",
      "    \n"
     ]
    }
   ],
   "source": [
    "def informe (destino, *tiempo, **tanques ):\n",
    "    return f\"\"\" Informe del cohete:\n",
    "    El destino es: {destino}\n",
    "    el tiempo total es de: {sum(tiempo)}\n",
    "    Tenemos un total de: {sum(tanques.values())} litros en los tanques.\n",
    "    \"\"\"\n",
    "\n",
    "\n",
    "print(informe('la luna',5,5,5, principal=20000, secundario=10000))  "
   ]
  }
 ],
 "metadata": {
  "interpreter": {
   "hash": "dda0ab21570dce833aaeb910644a02803c24e5869765398937f61f236ed1a04d"
  },
  "kernelspec": {
   "display_name": "Python 3.10.2 64-bit",
   "language": "python",
   "name": "python3"
  },
  "language_info": {
   "codemirror_mode": {
    "name": "ipython",
    "version": 3
   },
   "file_extension": ".py",
   "mimetype": "text/x-python",
   "name": "python",
   "nbconvert_exporter": "python",
   "pygments_lexer": "ipython3",
   "version": "3.10.2"
  },
  "orig_nbformat": 4
 },
 "nbformat": 4,
 "nbformat_minor": 2
}
